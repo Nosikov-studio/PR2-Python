{
 "cells": [
  {
   "cell_type": "code",
   "execution_count": 1,
   "id": "23da6587-0930-42e8-8f8e-de09978dc8ad",
   "metadata": {},
   "outputs": [],
   "source": [
    "import numpy as np"
   ]
  },
  {
   "cell_type": "code",
   "execution_count": 2,
   "id": "ba7fe023-f6c0-4d6f-bbe8-672aeea4b646",
   "metadata": {},
   "outputs": [
    {
     "data": {
      "text/plain": [
       "<module 'numpy' from 'C:\\\\Users\\\\neo\\\\Anaconda3\\\\envs\\\\my1\\\\lib\\\\site-packages\\\\numpy\\\\__init__.py'>"
      ]
     },
     "execution_count": 2,
     "metadata": {},
     "output_type": "execute_result"
    }
   ],
   "source": [
    "np"
   ]
  },
  {
   "cell_type": "markdown",
   "id": "67277216-ee09-4236-b9f0-f611ff30e279",
   "metadata": {},
   "source": [
    "# Горячие клавиши\n",
    "Ctrl+Enter — выполнение текущей ячейки и сохранение фокуса на текущей ячейке. \n",
    "\n",
    "Alt+Enter — выполнение текущей ячейки и перевод фокуса на новую ячейку созданную ниже."
   ]
  },
  {
   "cell_type": "code",
   "execution_count": 3,
   "id": "b737a4a0-0842-48de-9d7b-23646b605f2b",
   "metadata": {},
   "outputs": [
    {
     "data": {
      "text/plain": [
       "array([1, 2, 3, 4])"
      ]
     },
     "execution_count": 3,
     "metadata": {},
     "output_type": "execute_result"
    }
   ],
   "source": [
    "num_array=np.array([1, 2, 3, 4])\n",
    "num_array"
   ]
  },
  {
   "cell_type": "code",
   "execution_count": 4,
   "id": "c2884be2-e11d-4c0b-bc68-19d71231da2e",
   "metadata": {},
   "outputs": [
    {
     "data": {
      "text/plain": [
       "numpy.ndarray"
      ]
     },
     "execution_count": 4,
     "metadata": {},
     "output_type": "execute_result"
    }
   ],
   "source": [
    "type(num_array)"
   ]
  },
  {
   "cell_type": "code",
   "execution_count": 5,
   "id": "310669dc-e51d-4d84-a549-802b68b5899e",
   "metadata": {},
   "outputs": [
    {
     "data": {
      "text/plain": [
       "1"
      ]
     },
     "execution_count": 5,
     "metadata": {},
     "output_type": "execute_result"
    }
   ],
   "source": [
    "num_array[0]"
   ]
  },
  {
   "cell_type": "code",
   "execution_count": 6,
   "id": "d5107641-ed57-428a-975a-7f2de1401512",
   "metadata": {},
   "outputs": [
    {
     "data": {
      "text/plain": [
       "4"
      ]
     },
     "execution_count": 6,
     "metadata": {},
     "output_type": "execute_result"
    }
   ],
   "source": [
    "num_array[-1]"
   ]
  },
  {
   "cell_type": "code",
   "execution_count": 7,
   "id": "f85bbb4a-dbec-4f31-ae65-73e6d64eb9a8",
   "metadata": {},
   "outputs": [
    {
     "data": {
      "text/plain": [
       "(4,)"
      ]
     },
     "execution_count": 7,
     "metadata": {},
     "output_type": "execute_result"
    }
   ],
   "source": [
    "num_array.shape"
   ]
  },
  {
   "cell_type": "code",
   "execution_count": 8,
   "id": "24fd1ecb-0b50-42a2-9e8c-3667e9356025",
   "metadata": {},
   "outputs": [
    {
     "data": {
      "text/plain": [
       "1"
      ]
     },
     "execution_count": 8,
     "metadata": {},
     "output_type": "execute_result"
    }
   ],
   "source": [
    "num_array.ndim"
   ]
  },
  {
   "cell_type": "code",
   "execution_count": 9,
   "id": "7ae8f3f3-79ee-4a21-964f-e71a18b26cd0",
   "metadata": {},
   "outputs": [
    {
     "data": {
      "text/plain": [
       "4"
      ]
     },
     "execution_count": 9,
     "metadata": {},
     "output_type": "execute_result"
    }
   ],
   "source": [
    "num_array.size"
   ]
  },
  {
   "cell_type": "code",
   "execution_count": 10,
   "id": "43ec7165-2d41-4cca-a42f-80c40250555a",
   "metadata": {},
   "outputs": [
    {
     "data": {
      "text/plain": [
       "dtype('int32')"
      ]
     },
     "execution_count": 10,
     "metadata": {},
     "output_type": "execute_result"
    }
   ],
   "source": [
    "num_array.dtype"
   ]
  },
  {
   "cell_type": "code",
   "execution_count": 11,
   "id": "da0ec981-2abf-443d-9044-89ad43b6d972",
   "metadata": {},
   "outputs": [
    {
     "data": {
      "text/plain": [
       "4"
      ]
     },
     "execution_count": 11,
     "metadata": {},
     "output_type": "execute_result"
    }
   ],
   "source": [
    "num_array.itemsize"
   ]
  },
  {
   "cell_type": "code",
   "execution_count": 12,
   "id": "83c13641-74e2-4872-907f-205a95553af6",
   "metadata": {},
   "outputs": [
    {
     "data": {
      "text/plain": [
       "340"
      ]
     },
     "execution_count": 12,
     "metadata": {},
     "output_type": "execute_result"
    }
   ],
   "source": [
    "340\n"
   ]
  },
  {
   "cell_type": "markdown",
   "id": "a24f07de-b05e-44c4-b41a-ccd260adf7c1",
   "metadata": {},
   "source": [
    "## Python NUMPY - Полный Курс для Начинающих"
   ]
  },
  {
   "cell_type": "code",
   "execution_count": 13,
   "id": "a5fa9abe-48ff-41a9-87b2-bcf63232b17a",
   "metadata": {},
   "outputs": [],
   "source": [
    "my_list=[4, 25, 44, 30, 8]"
   ]
  },
  {
   "cell_type": "code",
   "execution_count": 14,
   "id": "9e2829d6-a693-4076-9b5f-f5b04257faee",
   "metadata": {},
   "outputs": [
    {
     "data": {
      "text/plain": [
       "array([ 4, 25, 44, 30,  8])"
      ]
     },
     "execution_count": 14,
     "metadata": {},
     "output_type": "execute_result"
    }
   ],
   "source": [
    "m=np.array(my_list)\n",
    "m"
   ]
  },
  {
   "cell_type": "code",
   "execution_count": 15,
   "id": "12006208-dee9-4a95-8fab-d84c8ee46e53",
   "metadata": {},
   "outputs": [
    {
     "data": {
      "text/plain": [
       "array([ 40, 250, 440, 300,  80])"
      ]
     },
     "execution_count": 15,
     "metadata": {},
     "output_type": "execute_result"
    }
   ],
   "source": [
    "m*10"
   ]
  },
  {
   "cell_type": "code",
   "execution_count": 16,
   "id": "fd1656ab-f34a-47ee-91cd-2e9a5d0e21da",
   "metadata": {},
   "outputs": [
    {
     "data": {
      "text/plain": [
       "array([104, 125, 144, 130, 108])"
      ]
     },
     "execution_count": 16,
     "metadata": {},
     "output_type": "execute_result"
    }
   ],
   "source": [
    "m+100"
   ]
  },
  {
   "cell_type": "code",
   "execution_count": 21,
   "id": "0ee8b4a7-e0d0-451c-a903-b1513ef36df3",
   "metadata": {},
   "outputs": [
    {
     "data": {
      "text/plain": [
       "array([0, 1, 2, 3, 4, 5, 6, 7, 8, 9])"
      ]
     },
     "execution_count": 21,
     "metadata": {},
     "output_type": "execute_result"
    }
   ],
   "source": [
    "np.arange(10)"
   ]
  },
  {
   "cell_type": "code",
   "execution_count": null,
   "id": "f38228e9-037f-4db2-bde5-e11ac7af1eb4",
   "metadata": {},
   "outputs": [],
   "source": []
  }
 ],
 "metadata": {
  "kernelspec": {
   "display_name": "Python 3",
   "language": "python",
   "name": "python3"
  },
  "language_info": {
   "codemirror_mode": {
    "name": "ipython",
    "version": 3
   },
   "file_extension": ".py",
   "mimetype": "text/x-python",
   "name": "python",
   "nbconvert_exporter": "python",
   "pygments_lexer": "ipython3",
   "version": "3.6.13"
  }
 },
 "nbformat": 4,
 "nbformat_minor": 5
}
